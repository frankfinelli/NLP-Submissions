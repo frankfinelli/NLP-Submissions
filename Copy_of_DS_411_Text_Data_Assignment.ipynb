{
  "cells": [
    {
      "cell_type": "markdown",
      "metadata": {
        "id": "XLVEUBHAszyf"
      },
      "source": [
        "\n",
        "\n",
        "# Natural Language Processing (NLP)\n",
        "## *Data Science Unit 4 Sprint 1 Assignment 1*\n",
        "\n",
        "Your goal in this assignment: find the attributes of the best & worst coffee shops in the dataset. The text is fairly raw: dates in the review, extra words in the `star_rating` column, etc. You'll probably want to clean that stuff up for a better analysis. \n",
        "\n",
        "Analyze the corpus of text using text visualizations of token frequency. Try cleaning the data as much as possible. Try the following techniques: \n",
        "- Lemmatization\n",
        "- Custom stopword removal\n",
        "\n",
        "Keep in mind the attributes of good tokens. Once you have a solid baseline, layer in the star rating in your visualization(s). Key part of this assignment - produce a write-up of the attributes of the best and worst coffee shops. Based on your analysis, what makes the best the best and the worst the worst. Use graphs and numbesr from your analysis to support your conclusions. There should be plenty of markdown cells! :coffee:"
      ]
    },
    {
      "cell_type": "code",
      "execution_count": 25,
      "metadata": {
        "colab": {
          "base_uri": "https://localhost:8080/",
          "height": 321
        },
        "id": "WVikJqB6szyi",
        "outputId": "334ceaca-e1ce-4900-a179-f85718261c85"
      },
      "outputs": [
        {
          "ename": "IncompleteRead",
          "evalue": "IncompleteRead(10386 bytes read, 4370 more expected)",
          "output_type": "error",
          "traceback": [
            "\u001b[1;31m---------------------------------------------------------------------------\u001b[0m",
            "\u001b[1;31mIncompleteRead\u001b[0m                            Traceback (most recent call last)",
            "File \u001b[1;32m~\\AppData\\Roaming\\Python\\Python311\\site-packages\\IPython\\core\\formatters.py:342\u001b[0m, in \u001b[0;36mBaseFormatter.__call__\u001b[1;34m(self, obj)\u001b[0m\n\u001b[0;32m    340\u001b[0m     method \u001b[39m=\u001b[39m get_real_method(obj, \u001b[39mself\u001b[39m\u001b[39m.\u001b[39mprint_method)\n\u001b[0;32m    341\u001b[0m     \u001b[39mif\u001b[39;00m method \u001b[39mis\u001b[39;00m \u001b[39mnot\u001b[39;00m \u001b[39mNone\u001b[39;00m:\n\u001b[1;32m--> 342\u001b[0m         \u001b[39mreturn\u001b[39;00m method()\n\u001b[0;32m    343\u001b[0m     \u001b[39mreturn\u001b[39;00m \u001b[39mNone\u001b[39;00m\n\u001b[0;32m    344\u001b[0m \u001b[39melse\u001b[39;00m:\n",
            "File \u001b[1;32m~\\AppData\\Roaming\\Python\\Python311\\site-packages\\IPython\\lib\\display.py:340\u001b[0m, in \u001b[0;36mYouTubeVideo._repr_jpeg_\u001b[1;34m(self)\u001b[0m\n\u001b[0;32m    337\u001b[0m \u001b[39mfrom\u001b[39;00m \u001b[39murllib\u001b[39;00m\u001b[39m.\u001b[39;00m\u001b[39mrequest\u001b[39;00m \u001b[39mimport\u001b[39;00m urlopen\n\u001b[0;32m    339\u001b[0m \u001b[39mtry\u001b[39;00m:\n\u001b[1;32m--> 340\u001b[0m     \u001b[39mreturn\u001b[39;00m urlopen(\u001b[39m\"\u001b[39;49m\u001b[39mhttps://img.youtube.com/vi/\u001b[39;49m\u001b[39m{id}\u001b[39;49;00m\u001b[39m/hqdefault.jpg\u001b[39;49m\u001b[39m\"\u001b[39;49m\u001b[39m.\u001b[39;49mformat(\u001b[39mid\u001b[39;49m\u001b[39m=\u001b[39;49m\u001b[39mself\u001b[39;49m\u001b[39m.\u001b[39;49mid))\u001b[39m.\u001b[39;49mread()\n\u001b[0;32m    341\u001b[0m \u001b[39mexcept\u001b[39;00m \u001b[39mIOError\u001b[39;00m:\n\u001b[0;32m    342\u001b[0m     \u001b[39mreturn\u001b[39;00m \u001b[39mNone\u001b[39;00m\n",
            "File \u001b[1;32mc:\\Program Files\\Python311\\Lib\\http\\client.py:481\u001b[0m, in \u001b[0;36mHTTPResponse.read\u001b[1;34m(self, amt)\u001b[0m\n\u001b[0;32m    479\u001b[0m \u001b[39melse\u001b[39;00m:\n\u001b[0;32m    480\u001b[0m     \u001b[39mtry\u001b[39;00m:\n\u001b[1;32m--> 481\u001b[0m         s \u001b[39m=\u001b[39m \u001b[39mself\u001b[39;49m\u001b[39m.\u001b[39;49m_safe_read(\u001b[39mself\u001b[39;49m\u001b[39m.\u001b[39;49mlength)\n\u001b[0;32m    482\u001b[0m     \u001b[39mexcept\u001b[39;00m IncompleteRead:\n\u001b[0;32m    483\u001b[0m         \u001b[39mself\u001b[39m\u001b[39m.\u001b[39m_close_conn()\n",
            "File \u001b[1;32mc:\\Program Files\\Python311\\Lib\\http\\client.py:632\u001b[0m, in \u001b[0;36mHTTPResponse._safe_read\u001b[1;34m(self, amt)\u001b[0m\n\u001b[0;32m    630\u001b[0m data \u001b[39m=\u001b[39m \u001b[39mself\u001b[39m\u001b[39m.\u001b[39mfp\u001b[39m.\u001b[39mread(amt)\n\u001b[0;32m    631\u001b[0m \u001b[39mif\u001b[39;00m \u001b[39mlen\u001b[39m(data) \u001b[39m<\u001b[39m amt:\n\u001b[1;32m--> 632\u001b[0m     \u001b[39mraise\u001b[39;00m IncompleteRead(data, amt\u001b[39m-\u001b[39m\u001b[39mlen\u001b[39m(data))\n\u001b[0;32m    633\u001b[0m \u001b[39mreturn\u001b[39;00m data\n",
            "\u001b[1;31mIncompleteRead\u001b[0m: IncompleteRead(10386 bytes read, 4370 more expected)"
          ]
        },
        {
          "data": {
            "text/html": [
              "\n",
              "        <iframe\n",
              "            width=\"400\"\n",
              "            height=\"300\"\n",
              "            src=\"https://www.youtube.com/embed/Jml7NVYm8cs\"\n",
              "            frameborder=\"0\"\n",
              "            allowfullscreen\n",
              "            \n",
              "        ></iframe>\n",
              "        "
            ],
            "text/plain": [
              "<IPython.lib.display.YouTubeVideo at 0x2709eeef910>"
            ]
          },
          "execution_count": 25,
          "metadata": {},
          "output_type": "execute_result"
        }
      ],
      "source": [
        "from IPython.display import YouTubeVideo\n",
        "YouTubeVideo('Jml7NVYm8cs')"
      ]
    },
    {
      "cell_type": "markdown",
      "metadata": {
        "id": "Zwv93p0nw4y7"
      },
      "source": [
        "#0. Prepare"
      ]
    },
    {
      "cell_type": "markdown",
      "metadata": {
        "id": "NznKZiH9wpvW"
      },
      "source": [
        "## 0.1 Get spacy"
      ]
    },
    {
      "cell_type": "code",
      "execution_count": null,
      "metadata": {
        "colab": {
          "base_uri": "https://localhost:8080/"
        },
        "id": "jOfpgOqSyX4p",
        "outputId": "d00c1460-a705-4ffa-ba2e-625303a735a6"
      },
      "outputs": [
        {
          "name": "stdout",
          "output_type": "stream",
          "text": [
            "Defaulting to user installation because normal site-packages is not writeable\n"
          ]
        },
        {
          "name": "stderr",
          "output_type": "stream",
          "text": [
            "ERROR: Invalid requirement: '#'\n"
          ]
        }
      ],
      "source": [
        "# Locally (or on colab) let's use en_core_web_lg \n",
        "!python -m spacy download en_core_web_lg # Can do lg, takes awhile\n",
        "# Also on Colab, need to restart runtime after this step!"
      ]
    },
    {
      "cell_type": "markdown",
      "metadata": {
        "id": "S34mj-a5wwfa"
      },
      "source": [
        "## 0.2 Restart runtime!"
      ]
    },
    {
      "cell_type": "markdown",
      "metadata": {
        "id": "j7nBZY8Z0I4W"
      },
      "source": [
        "## 0.3 Install packages and do imports"
      ]
    },
    {
      "cell_type": "code",
      "execution_count": null,
      "metadata": {
        "colab": {
          "base_uri": "https://localhost:8080/"
        },
        "id": "gQuk1Tmf28gG",
        "outputId": "191445ef-ce0d-497a-f211-83e1d95272cc"
      },
      "outputs": [
        {
          "name": "stdout",
          "output_type": "stream",
          "text": [
            "Defaulting to user installation because normal site-packages is not writeable\n",
            "Requirement already satisfied: squarify in c:\\users\\fradi\\appdata\\roaming\\python\\python311\\site-packages (0.4.3)\n"
          ]
        }
      ],
      "source": [
        "!pip install squarify"
      ]
    },
    {
      "cell_type": "code",
      "execution_count": null,
      "metadata": {
        "id": "IIyTZrE3-fNd"
      },
      "outputs": [],
      "source": [
        "import pandas as pd\n",
        "import matplotlib.pyplot as plt\n",
        "%matplotlib inline\n",
        "import seaborn as sns\n",
        "import squarify"
      ]
    },
    {
      "cell_type": "markdown",
      "metadata": {
        "id": "H9x5mry3szyk"
      },
      "source": [
        "-----"
      ]
    },
    {
      "cell_type": "markdown",
      "metadata": {
        "id": "xFOEkbR40TZf"
      },
      "source": [
        "## 0.4 Get data"
      ]
    },
    {
      "cell_type": "code",
      "execution_count": null,
      "metadata": {
        "colab": {
          "base_uri": "https://localhost:8080/",
          "height": 206
        },
        "id": "NXNgjaqaszyk",
        "outputId": "c48af4e7-59bd-4b7d-802c-f23cf3dfad12"
      },
      "outputs": [
        {
          "data": {
            "text/html": [
              "<div>\n",
              "<style scoped>\n",
              "    .dataframe tbody tr th:only-of-type {\n",
              "        vertical-align: middle;\n",
              "    }\n",
              "\n",
              "    .dataframe tbody tr th {\n",
              "        vertical-align: top;\n",
              "    }\n",
              "\n",
              "    .dataframe thead th {\n",
              "        text-align: right;\n",
              "    }\n",
              "</style>\n",
              "<table border=\"1\" class=\"dataframe\">\n",
              "  <thead>\n",
              "    <tr style=\"text-align: right;\">\n",
              "      <th></th>\n",
              "      <th>coffee_shop_name</th>\n",
              "      <th>full_review_text</th>\n",
              "      <th>star_rating</th>\n",
              "    </tr>\n",
              "  </thead>\n",
              "  <tbody>\n",
              "    <tr>\n",
              "      <th>0</th>\n",
              "      <td>The Factory - Cafe With a Soul</td>\n",
              "      <td>11/25/2016 1 check-in Love love loved the atm...</td>\n",
              "      <td>5.0 star rating</td>\n",
              "    </tr>\n",
              "    <tr>\n",
              "      <th>1</th>\n",
              "      <td>The Factory - Cafe With a Soul</td>\n",
              "      <td>12/2/2016 Listed in Date Night: Austin, Ambia...</td>\n",
              "      <td>4.0 star rating</td>\n",
              "    </tr>\n",
              "    <tr>\n",
              "      <th>2</th>\n",
              "      <td>The Factory - Cafe With a Soul</td>\n",
              "      <td>11/30/2016 1 check-in Listed in Brunch Spots ...</td>\n",
              "      <td>4.0 star rating</td>\n",
              "    </tr>\n",
              "    <tr>\n",
              "      <th>3</th>\n",
              "      <td>The Factory - Cafe With a Soul</td>\n",
              "      <td>11/25/2016 Very cool decor! Good drinks Nice ...</td>\n",
              "      <td>2.0 star rating</td>\n",
              "    </tr>\n",
              "    <tr>\n",
              "      <th>4</th>\n",
              "      <td>The Factory - Cafe With a Soul</td>\n",
              "      <td>12/3/2016 1 check-in They are located within ...</td>\n",
              "      <td>4.0 star rating</td>\n",
              "    </tr>\n",
              "  </tbody>\n",
              "</table>\n",
              "</div>"
            ],
            "text/plain": [
              "                  coffee_shop_name  \\\n",
              "0  The Factory - Cafe With a Soul    \n",
              "1  The Factory - Cafe With a Soul    \n",
              "2  The Factory - Cafe With a Soul    \n",
              "3  The Factory - Cafe With a Soul    \n",
              "4  The Factory - Cafe With a Soul    \n",
              "\n",
              "                                    full_review_text        star_rating  \n",
              "0   11/25/2016 1 check-in Love love loved the atm...   5.0 star rating   \n",
              "1   12/2/2016 Listed in Date Night: Austin, Ambia...   4.0 star rating   \n",
              "2   11/30/2016 1 check-in Listed in Brunch Spots ...   4.0 star rating   \n",
              "3   11/25/2016 Very cool decor! Good drinks Nice ...   2.0 star rating   \n",
              "4   12/3/2016 1 check-in They are located within ...   4.0 star rating   "
            ]
          },
          "execution_count": 7,
          "metadata": {},
          "output_type": "execute_result"
        }
      ],
      "source": [
        "url = \"https://raw.githubusercontent.com/LambdaSchool/DS-Unit-4-Sprint-1-NLP/main/module1-text-data/data/yelp_coffeeshop_review_data.csv\"\n",
        "\n",
        "df = pd.read_csv(url)\n",
        "df.head()"
      ]
    },
    {
      "cell_type": "code",
      "execution_count": null,
      "metadata": {
        "colab": {
          "base_uri": "https://localhost:8080/",
          "height": 90
        },
        "id": "6fDPYtqqszyl",
        "outputId": "ccb6a248-f15d-4f11-b2ff-e976b13eec71"
      },
      "outputs": [
        {
          "data": {
            "text/plain": [
              "' 11/25/2016 1 check-in Love love loved the atmosphere! Every corner of the coffee shop had its own style, and there were swings!!! I ordered the matcha latte, and it was muy fantastico! Ordering and getting my drink were pretty streamlined. I ordered on an iPad, which included all beverage selections that ranged from coffee to wine, desired level of sweetness, and a checkout system. I got my latte within minutes!  I was hoping for a typical heart or feather on my latte, but found myself listing out all the possibilities of what the art may be. Any ideas? '"
            ]
          },
          "execution_count": 8,
          "metadata": {},
          "output_type": "execute_result"
        }
      ],
      "source": [
        "df['full_review_text'][0]"
      ]
    },
    {
      "cell_type": "markdown",
      "metadata": {
        "id": "qDezrvTjxA1G"
      },
      "source": [
        "# 1 Practice: Clean, tokenize, remove stop words, lemmatize"
      ]
    },
    {
      "cell_type": "markdown",
      "metadata": {
        "id": "KXrDeo0Gt257"
      },
      "source": [
        "## 1.0 Save Dates for later use (optional)\n",
        "Each Review starts with a date, we could grab this date and add it as a new column on our dataframe if we want. This could be a valuable feature later on. This isn't absolutely necessary, but might be a good idea. Otherwise we might just be throwing away this useful information when we clean the text.\n",
        "\n"
      ]
    },
    {
      "cell_type": "code",
      "execution_count": null,
      "metadata": {
        "id": "VelUfzqOuF2r"
      },
      "outputs": [],
      "source": [
        "# grab date from the beginning of the review text\n",
        "def get_date(text):\n",
        "  return text.split(' ')[1]\n",
        "\n",
        "df['date'] = df['full_review_text'].apply(get_date)"
      ]
    },
    {
      "cell_type": "code",
      "execution_count": null,
      "metadata": {
        "colab": {
          "base_uri": "https://localhost:8080/",
          "height": 424
        },
        "id": "5AMm7yNGN83Z",
        "outputId": "7064ea9e-97b7-4475-87c0-d76882f76367"
      },
      "outputs": [
        {
          "data": {
            "text/html": [
              "<div>\n",
              "<style scoped>\n",
              "    .dataframe tbody tr th:only-of-type {\n",
              "        vertical-align: middle;\n",
              "    }\n",
              "\n",
              "    .dataframe tbody tr th {\n",
              "        vertical-align: top;\n",
              "    }\n",
              "\n",
              "    .dataframe thead th {\n",
              "        text-align: right;\n",
              "    }\n",
              "</style>\n",
              "<table border=\"1\" class=\"dataframe\">\n",
              "  <thead>\n",
              "    <tr style=\"text-align: right;\">\n",
              "      <th></th>\n",
              "      <th>coffee_shop_name</th>\n",
              "      <th>full_review_text</th>\n",
              "      <th>star_rating</th>\n",
              "      <th>date</th>\n",
              "    </tr>\n",
              "  </thead>\n",
              "  <tbody>\n",
              "    <tr>\n",
              "      <th>0</th>\n",
              "      <td>The Factory - Cafe With a Soul</td>\n",
              "      <td>11/25/2016 1 check-in Love love loved the atm...</td>\n",
              "      <td>5.0 star rating</td>\n",
              "      <td>11/25/2016</td>\n",
              "    </tr>\n",
              "    <tr>\n",
              "      <th>1</th>\n",
              "      <td>The Factory - Cafe With a Soul</td>\n",
              "      <td>12/2/2016 Listed in Date Night: Austin, Ambia...</td>\n",
              "      <td>4.0 star rating</td>\n",
              "      <td>12/2/2016</td>\n",
              "    </tr>\n",
              "    <tr>\n",
              "      <th>2</th>\n",
              "      <td>The Factory - Cafe With a Soul</td>\n",
              "      <td>11/30/2016 1 check-in Listed in Brunch Spots ...</td>\n",
              "      <td>4.0 star rating</td>\n",
              "      <td>11/30/2016</td>\n",
              "    </tr>\n",
              "    <tr>\n",
              "      <th>3</th>\n",
              "      <td>The Factory - Cafe With a Soul</td>\n",
              "      <td>11/25/2016 Very cool decor! Good drinks Nice ...</td>\n",
              "      <td>2.0 star rating</td>\n",
              "      <td>11/25/2016</td>\n",
              "    </tr>\n",
              "    <tr>\n",
              "      <th>4</th>\n",
              "      <td>The Factory - Cafe With a Soul</td>\n",
              "      <td>12/3/2016 1 check-in They are located within ...</td>\n",
              "      <td>4.0 star rating</td>\n",
              "      <td>12/3/2016</td>\n",
              "    </tr>\n",
              "    <tr>\n",
              "      <th>...</th>\n",
              "      <td>...</td>\n",
              "      <td>...</td>\n",
              "      <td>...</td>\n",
              "      <td>...</td>\n",
              "    </tr>\n",
              "    <tr>\n",
              "      <th>7611</th>\n",
              "      <td>The Steeping Room</td>\n",
              "      <td>2/19/2015 I actually step into this restauran...</td>\n",
              "      <td>4.0 star rating</td>\n",
              "      <td>2/19/2015</td>\n",
              "    </tr>\n",
              "    <tr>\n",
              "      <th>7612</th>\n",
              "      <td>The Steeping Room</td>\n",
              "      <td>1/21/2016 Ok, The Steeping Room IS awesome. H...</td>\n",
              "      <td>5.0 star rating</td>\n",
              "      <td>1/21/2016</td>\n",
              "    </tr>\n",
              "    <tr>\n",
              "      <th>7613</th>\n",
              "      <td>The Steeping Room</td>\n",
              "      <td>4/30/2015 Loved coming here for tea, and the ...</td>\n",
              "      <td>4.0 star rating</td>\n",
              "      <td>4/30/2015</td>\n",
              "    </tr>\n",
              "    <tr>\n",
              "      <th>7614</th>\n",
              "      <td>The Steeping Room</td>\n",
              "      <td>8/2/2015 The food is just average. The booths...</td>\n",
              "      <td>3.0 star rating</td>\n",
              "      <td>8/2/2015</td>\n",
              "    </tr>\n",
              "    <tr>\n",
              "      <th>7615</th>\n",
              "      <td>The Steeping Room</td>\n",
              "      <td>5/23/2015 I finally stopped in for lunch with...</td>\n",
              "      <td>4.0 star rating</td>\n",
              "      <td>5/23/2015</td>\n",
              "    </tr>\n",
              "  </tbody>\n",
              "</table>\n",
              "<p>7616 rows × 4 columns</p>\n",
              "</div>"
            ],
            "text/plain": [
              "                     coffee_shop_name  \\\n",
              "0     The Factory - Cafe With a Soul    \n",
              "1     The Factory - Cafe With a Soul    \n",
              "2     The Factory - Cafe With a Soul    \n",
              "3     The Factory - Cafe With a Soul    \n",
              "4     The Factory - Cafe With a Soul    \n",
              "...                               ...   \n",
              "7611               The Steeping Room    \n",
              "7612               The Steeping Room    \n",
              "7613               The Steeping Room    \n",
              "7614               The Steeping Room    \n",
              "7615               The Steeping Room    \n",
              "\n",
              "                                       full_review_text        star_rating  \\\n",
              "0      11/25/2016 1 check-in Love love loved the atm...   5.0 star rating    \n",
              "1      12/2/2016 Listed in Date Night: Austin, Ambia...   4.0 star rating    \n",
              "2      11/30/2016 1 check-in Listed in Brunch Spots ...   4.0 star rating    \n",
              "3      11/25/2016 Very cool decor! Good drinks Nice ...   2.0 star rating    \n",
              "4      12/3/2016 1 check-in They are located within ...   4.0 star rating    \n",
              "...                                                 ...                ...   \n",
              "7611   2/19/2015 I actually step into this restauran...   4.0 star rating    \n",
              "7612   1/21/2016 Ok, The Steeping Room IS awesome. H...   5.0 star rating    \n",
              "7613   4/30/2015 Loved coming here for tea, and the ...   4.0 star rating    \n",
              "7614   8/2/2015 The food is just average. The booths...   3.0 star rating    \n",
              "7615   5/23/2015 I finally stopped in for lunch with...   4.0 star rating    \n",
              "\n",
              "            date  \n",
              "0     11/25/2016  \n",
              "1      12/2/2016  \n",
              "2     11/30/2016  \n",
              "3     11/25/2016  \n",
              "4      12/3/2016  \n",
              "...          ...  \n",
              "7611   2/19/2015  \n",
              "7612   1/21/2016  \n",
              "7613   4/30/2015  \n",
              "7614    8/2/2015  \n",
              "7615   5/23/2015  \n",
              "\n",
              "[7616 rows x 4 columns]"
            ]
          },
          "execution_count": 10,
          "metadata": {},
          "output_type": "execute_result"
        }
      ],
      "source": [
        "df"
      ]
    },
    {
      "cell_type": "code",
      "execution_count": null,
      "metadata": {
        "colab": {
          "base_uri": "https://localhost:8080/",
          "height": 36
        },
        "id": "sHFo6eDyvJsb",
        "outputId": "197890c2-9350-48b7-a00f-15eaa354e9cf"
      },
      "outputs": [
        {
          "data": {
            "text/plain": [
              "'11/25/2016'"
            ]
          },
          "execution_count": 11,
          "metadata": {},
          "output_type": "execute_result"
        }
      ],
      "source": [
        "# Another approach (we could also use regular expressions to grab the dates)\n",
        "import re\n",
        "\n",
        "def find_first_date(text):\n",
        "  #return re.findall('\\d+\\/\\d+\\/\\d+', text)[0]\n",
        "  return re.findall(r'\\d+/\\d+/\\d+', text)[0]\n",
        "\n",
        "example_text = \" 11/25/2016 1 check-in Love love loved the atmosphere! Every corner of the coffee shop had its own style, and there were swings!!! I ordered the matcha latte, and it was muy fantastico! Ordering and getting my drink were pretty streamlined. I ordered on an iPad, which included all beverage selections that ranged from coffee to wine, desired level of sweetness, and a checkout system. I got my latte within minutes!  I was hoping for a typical heart or feather on my latte, but found myself listing out all the possibilities of what the art may be. Any ideas? \"\n",
        "\n",
        "find_first_date(example_text)"
      ]
    },
    {
      "cell_type": "code",
      "execution_count": null,
      "metadata": {
        "colab": {
          "base_uri": "https://localhost:8080/"
        },
        "id": "ebJFVk1aynMq",
        "outputId": "b0413371-2a7f-4a91-8a0a-9af96242c0e8"
      },
      "outputs": [
        {
          "name": "stdout",
          "output_type": "stream",
          "text": [
            "11/25/2016\n",
            "<class 'str'>\n"
          ]
        }
      ],
      "source": [
        "print(df['date'].iloc[0])\n",
        "print(type(df['date'].iloc[0]))"
      ]
    },
    {
      "cell_type": "code",
      "execution_count": null,
      "metadata": {
        "id": "yeTdqBchuSad"
      },
      "outputs": [],
      "source": [
        "# turn date column strings into datetime objects\n",
        "df['date'] = pd.to_datetime(df['date'], infer_datetime_format=True)"
      ]
    },
    {
      "cell_type": "code",
      "execution_count": null,
      "metadata": {
        "colab": {
          "base_uri": "https://localhost:8080/"
        },
        "id": "JeRhPmpsy1_i",
        "outputId": "3af56b7f-463a-411c-b816-0cf4fc3277ea"
      },
      "outputs": [
        {
          "name": "stdout",
          "output_type": "stream",
          "text": [
            "<class 'pandas._libs.tslibs.timestamps.Timestamp'>\n",
            "2016-11-25 00:00:00\n"
          ]
        }
      ],
      "source": [
        "print(type(df['date'][0]))\n",
        "print(df['date'].iloc[0])"
      ]
    },
    {
      "cell_type": "code",
      "execution_count": null,
      "metadata": {
        "colab": {
          "base_uri": "https://localhost:8080/"
        },
        "id": "Z09gKsu9zIWG",
        "outputId": "116d770f-81a0-4e2a-c679-048aefa8dcae"
      },
      "outputs": [
        {
          "data": {
            "text/plain": [
              "['__add__',\n",
              " '__array_priority__',\n",
              " '__class__',\n",
              " '__delattr__',\n",
              " '__dict__',\n",
              " '__dir__',\n",
              " '__doc__',\n",
              " '__eq__',\n",
              " '__format__',\n",
              " '__ge__',\n",
              " '__getattribute__',\n",
              " '__getstate__',\n",
              " '__gt__',\n",
              " '__hash__',\n",
              " '__init__',\n",
              " '__init_subclass__',\n",
              " '__le__',\n",
              " '__lt__',\n",
              " '__module__',\n",
              " '__ne__',\n",
              " '__new__',\n",
              " '__pyx_vtable__',\n",
              " '__radd__',\n",
              " '__reduce__',\n",
              " '__reduce_cython__',\n",
              " '__reduce_ex__',\n",
              " '__repr__',\n",
              " '__rsub__',\n",
              " '__setattr__',\n",
              " '__setstate__',\n",
              " '__setstate_cython__',\n",
              " '__sizeof__',\n",
              " '__str__',\n",
              " '__sub__',\n",
              " '__subclasshook__',\n",
              " '__weakref__',\n",
              " '_as_unit',\n",
              " '_date_repr',\n",
              " '_freq',\n",
              " '_freqstr',\n",
              " '_from_dt64',\n",
              " '_from_value_and_reso',\n",
              " '_repr_base',\n",
              " '_reso',\n",
              " '_round',\n",
              " '_set_freq',\n",
              " '_short_repr',\n",
              " '_time_repr',\n",
              " 'asm8',\n",
              " 'astimezone',\n",
              " 'ceil',\n",
              " 'combine',\n",
              " 'ctime',\n",
              " 'date',\n",
              " 'day',\n",
              " 'day_name',\n",
              " 'day_of_week',\n",
              " 'day_of_year',\n",
              " 'dayofweek',\n",
              " 'dayofyear',\n",
              " 'days_in_month',\n",
              " 'daysinmonth',\n",
              " 'dst',\n",
              " 'floor',\n",
              " 'fold',\n",
              " 'freq',\n",
              " 'freqstr',\n",
              " 'fromisocalendar',\n",
              " 'fromisoformat',\n",
              " 'fromordinal',\n",
              " 'fromtimestamp',\n",
              " 'hour',\n",
              " 'is_leap_year',\n",
              " 'is_month_end',\n",
              " 'is_month_start',\n",
              " 'is_quarter_end',\n",
              " 'is_quarter_start',\n",
              " 'is_year_end',\n",
              " 'is_year_start',\n",
              " 'isocalendar',\n",
              " 'isoformat',\n",
              " 'isoweekday',\n",
              " 'max',\n",
              " 'microsecond',\n",
              " 'min',\n",
              " 'minute',\n",
              " 'month',\n",
              " 'month_name',\n",
              " 'nanosecond',\n",
              " 'normalize',\n",
              " 'now',\n",
              " 'quarter',\n",
              " 'replace',\n",
              " 'resolution',\n",
              " 'round',\n",
              " 'second',\n",
              " 'strftime',\n",
              " 'strptime',\n",
              " 'time',\n",
              " 'timestamp',\n",
              " 'timetuple',\n",
              " 'timetz',\n",
              " 'to_datetime64',\n",
              " 'to_julian_date',\n",
              " 'to_numpy',\n",
              " 'to_period',\n",
              " 'to_pydatetime',\n",
              " 'today',\n",
              " 'toordinal',\n",
              " 'tz',\n",
              " 'tz_convert',\n",
              " 'tz_localize',\n",
              " 'tzinfo',\n",
              " 'tzname',\n",
              " 'utcfromtimestamp',\n",
              " 'utcnow',\n",
              " 'utcoffset',\n",
              " 'utctimetuple',\n",
              " 'value',\n",
              " 'week',\n",
              " 'weekday',\n",
              " 'weekofyear',\n",
              " 'year']"
            ]
          },
          "execution_count": 15,
          "metadata": {},
          "output_type": "execute_result"
        }
      ],
      "source": [
        "dir(df['date'].iloc[0])"
      ]
    },
    {
      "cell_type": "code",
      "execution_count": null,
      "metadata": {
        "colab": {
          "base_uri": "https://localhost:8080/",
          "height": 36
        },
        "id": "cKV6JkwUzVnJ",
        "outputId": "a76f6445-5eb3-48b6-b873-1915543f0554"
      },
      "outputs": [
        {
          "data": {
            "text/plain": [
              "'Friday'"
            ]
          },
          "execution_count": 16,
          "metadata": {},
          "output_type": "execute_result"
        }
      ],
      "source": [
        "df['date'].iloc[0].day_name()"
      ]
    },
    {
      "cell_type": "code",
      "execution_count": null,
      "metadata": {
        "colab": {
          "base_uri": "https://localhost:8080/",
          "height": 206
        },
        "id": "cuxXAcl8uIsn",
        "outputId": "f1f2a0c4-5d02-49a2-d9e1-26b959e87095"
      },
      "outputs": [
        {
          "data": {
            "text/html": [
              "<div>\n",
              "<style scoped>\n",
              "    .dataframe tbody tr th:only-of-type {\n",
              "        vertical-align: middle;\n",
              "    }\n",
              "\n",
              "    .dataframe tbody tr th {\n",
              "        vertical-align: top;\n",
              "    }\n",
              "\n",
              "    .dataframe thead th {\n",
              "        text-align: right;\n",
              "    }\n",
              "</style>\n",
              "<table border=\"1\" class=\"dataframe\">\n",
              "  <thead>\n",
              "    <tr style=\"text-align: right;\">\n",
              "      <th></th>\n",
              "      <th>coffee_shop_name</th>\n",
              "      <th>full_review_text</th>\n",
              "      <th>star_rating</th>\n",
              "      <th>date</th>\n",
              "    </tr>\n",
              "  </thead>\n",
              "  <tbody>\n",
              "    <tr>\n",
              "      <th>0</th>\n",
              "      <td>The Factory - Cafe With a Soul</td>\n",
              "      <td>11/25/2016 1 check-in Love love loved the atm...</td>\n",
              "      <td>5.0 star rating</td>\n",
              "      <td>2016-11-25</td>\n",
              "    </tr>\n",
              "    <tr>\n",
              "      <th>1</th>\n",
              "      <td>The Factory - Cafe With a Soul</td>\n",
              "      <td>12/2/2016 Listed in Date Night: Austin, Ambia...</td>\n",
              "      <td>4.0 star rating</td>\n",
              "      <td>2016-12-02</td>\n",
              "    </tr>\n",
              "    <tr>\n",
              "      <th>2</th>\n",
              "      <td>The Factory - Cafe With a Soul</td>\n",
              "      <td>11/30/2016 1 check-in Listed in Brunch Spots ...</td>\n",
              "      <td>4.0 star rating</td>\n",
              "      <td>2016-11-30</td>\n",
              "    </tr>\n",
              "    <tr>\n",
              "      <th>3</th>\n",
              "      <td>The Factory - Cafe With a Soul</td>\n",
              "      <td>11/25/2016 Very cool decor! Good drinks Nice ...</td>\n",
              "      <td>2.0 star rating</td>\n",
              "      <td>2016-11-25</td>\n",
              "    </tr>\n",
              "    <tr>\n",
              "      <th>4</th>\n",
              "      <td>The Factory - Cafe With a Soul</td>\n",
              "      <td>12/3/2016 1 check-in They are located within ...</td>\n",
              "      <td>4.0 star rating</td>\n",
              "      <td>2016-12-03</td>\n",
              "    </tr>\n",
              "  </tbody>\n",
              "</table>\n",
              "</div>"
            ],
            "text/plain": [
              "                  coffee_shop_name  \\\n",
              "0  The Factory - Cafe With a Soul    \n",
              "1  The Factory - Cafe With a Soul    \n",
              "2  The Factory - Cafe With a Soul    \n",
              "3  The Factory - Cafe With a Soul    \n",
              "4  The Factory - Cafe With a Soul    \n",
              "\n",
              "                                    full_review_text        star_rating  \\\n",
              "0   11/25/2016 1 check-in Love love loved the atm...   5.0 star rating    \n",
              "1   12/2/2016 Listed in Date Night: Austin, Ambia...   4.0 star rating    \n",
              "2   11/30/2016 1 check-in Listed in Brunch Spots ...   4.0 star rating    \n",
              "3   11/25/2016 Very cool decor! Good drinks Nice ...   2.0 star rating    \n",
              "4   12/3/2016 1 check-in They are located within ...   4.0 star rating    \n",
              "\n",
              "        date  \n",
              "0 2016-11-25  \n",
              "1 2016-12-02  \n",
              "2 2016-11-30  \n",
              "3 2016-11-25  \n",
              "4 2016-12-03  "
            ]
          },
          "execution_count": 17,
          "metadata": {},
          "output_type": "execute_result"
        }
      ],
      "source": [
        "df.head()"
      ]
    },
    {
      "cell_type": "code",
      "execution_count": null,
      "metadata": {
        "colab": {
          "base_uri": "https://localhost:8080/"
        },
        "id": "5OdgeYLv0PU5",
        "outputId": "4a368d01-4c50-44c1-8f80-1e34c25ceef6"
      },
      "outputs": [
        {
          "data": {
            "text/plain": [
              "array([' 5.0 star rating ', ' 4.0 star rating ', ' 2.0 star rating ',\n",
              "       ' 3.0 star rating ', ' 1.0 star rating '], dtype=object)"
            ]
          },
          "execution_count": 18,
          "metadata": {},
          "output_type": "execute_result"
        }
      ],
      "source": [
        "df['star_rating'].unique()"
      ]
    },
    {
      "cell_type": "code",
      "execution_count": null,
      "metadata": {
        "colab": {
          "base_uri": "https://localhost:8080/"
        },
        "id": "L7Nt13a_0FU8",
        "outputId": "708e75b6-9827-473b-a013-d285603b16d2"
      },
      "outputs": [
        {
          "data": {
            "text/plain": [
              " 5.0 star rating     3780\n",
              " 4.0 star rating     2360\n",
              " 3.0 star rating      738\n",
              " 2.0 star rating      460\n",
              " 1.0 star rating      278\n",
              "Name: star_rating, dtype: int64"
            ]
          },
          "execution_count": 19,
          "metadata": {},
          "output_type": "execute_result"
        }
      ],
      "source": [
        "df['star_rating'].value_counts()"
      ]
    },
    {
      "cell_type": "code",
      "execution_count": null,
      "metadata": {
        "colab": {
          "base_uri": "https://localhost:8080/"
        },
        "id": "KvuvWTk4uLhJ",
        "outputId": "ccdb1d25-f1e0-44b7-8ba5-0a3bfd4c1be1"
      },
      "outputs": [
        {
          "data": {
            "text/plain": [
              "2016-10-09    31\n",
              "2016-09-18    30\n",
              "2016-11-20    27\n",
              "2016-11-02    27\n",
              "2016-12-02    26\n",
              "              ..\n",
              "2012-03-06     1\n",
              "2011-10-29     1\n",
              "2012-03-14     1\n",
              "2012-10-03     1\n",
              "2013-01-09     1\n",
              "Name: date, Length: 1592, dtype: int64"
            ]
          },
          "execution_count": 20,
          "metadata": {},
          "output_type": "execute_result"
        }
      ],
      "source": [
        "# looks like most dates are in late 2016\n",
        "df['date'].value_counts()"
      ]
    },
    {
      "cell_type": "code",
      "execution_count": null,
      "metadata": {
        "colab": {
          "base_uri": "https://localhost:8080/",
          "height": 265
        },
        "id": "qEqwsjWFucJb",
        "outputId": "d3ce1c2b-81e3-4c62-cbf3-c571fcdbe418"
      },
      "outputs": [
        {
          "data": {
            "image/png": "[encoded data removed]",
            "text/plain": [
              "<Figure size 640x480 with 1 Axes>"
            ]
          },
          "metadata": {},
          "output_type": "display_data"
        }
      ],
      "source": [
        "# histogram of review dates to see when most reviews were left\n",
        "# just a little EDA\n",
        "df['date'].hist(bins=20);"
      ]
    },
    {
      "cell_type": "markdown",
      "metadata": {
        "id": "1zbOpqPEusdt"
      },
      "source": [
        "## 1.1 Clean Review Text (with Regular Expressions `regex`)\n",
        "dataquest has a good [regex reference](https://www.dataquest.io/wp-content/uploads/2019/03/python-regular-expressions-cheat-sheet.pdf\n",
        ")\n",
        "\n",
        "It looks like the reviews have the following characteristics\n",
        "\n",
        "- Date at the beginning \n",
        "- Lots of punctuation \n",
        "- Use special characters like $ (as well as dollar amounts)\n",
        "- Upper and lower case words"
      ]
    },
    {
      "cell_type": "code",
      "execution_count": null,
      "metadata": {
        "id": "386V8zRuszyp"
      },
      "outputs": [],
      "source": [
        "import re\n",
        "# considering using regex to remove dates\n",
        "# you can create and test regular expressions on this online regex editor: https://regex101.com/\n",
        "    \n",
        "def clean_data(text):\n",
        "    \"\"\"\n",
        "    Accepts a single text document and performs several regex substitutions in order to clean the document. \n",
        "    \n",
        "    Parameters\n",
        "    ----------\n",
        "    text: string or object \n",
        "    \n",
        "    Returns\n",
        "    -------\n",
        "    text: string or object\n",
        "    \"\"\"\n",
        "    \n",
        "    # order of operations - apply the expression from top to bottom\n",
        "    date_regex = r\"\\d+/\\d+/\\d+\"\n",
        "    punct_regex = r\"[^0-9a-zA-Z\\s]\" # any non-alphanumeric chars\n",
        "    special_chars_regex = r\"[\\$\\%\\&\\@+]\" \n",
        "    numerical_regex =  r\"\\d+\" # match one or more digits\n",
        "    \n",
        "    # Replace any strings matching the above regex patterns with blank strings\n",
        "    # (effectively removing them from the text)\n",
        "    text = re.sub(date_regex, \"\", text)\n",
        "    text = re.sub(punct_regex, \"\", text)\n",
        "    text = re.sub(special_chars_regex, \"\", text)\n",
        "    text = re.sub(numerical_regex, \"\", text)\n",
        "\n",
        "    # match one or more whitespace chars\n",
        "    whitespace_regex = r\"\\s\" \n",
        "    # replace one or more whitespace characters with a single white space char\n",
        "    #    not a blank string!\n",
        "    text = re.sub(whitespace_regex, \" \", text)\n",
        "\n",
        "\n",
        "    # apply case normalization\n",
        "    text = text.lower()\n",
        "    return text"
      ]
    },
    {
      "cell_type": "code",
      "execution_count": null,
      "metadata": {
        "colab": {
          "base_uri": "https://localhost:8080/",
          "height": 72
        },
        "id": "GpKDTXfRszyp",
        "outputId": "18e2402a-5a16-4459-88ca-48c7d47488a5"
      },
      "outputs": [
        {
          "data": {
            "text/plain": [
              "'   checkin love love loved the atmosphere every corner of the coffee shop had its own style and there were swings i ordered the matcha latte and it was muy fantastico ordering and getting my drink were pretty streamlined i ordered on an ipad which included all beverage selections that ranged from coffee to wine desired level of sweetness and a checkout system i got my latte within minutes  i was hoping for a typical heart or feather on my latte but found myself listing out all the possibilities of what the art may be any ideas '"
            ]
          },
          "execution_count": 23,
          "metadata": {},
          "output_type": "execute_result"
        }
      ],
      "source": [
        "df['cleaned_review'] = df['full_review_text'].apply(clean_data)\n",
        "\n",
        "df['cleaned_review'][0]"
      ]
    },
    {
      "cell_type": "markdown",
      "metadata": {
        "id": "jYZSZec_szyr"
      },
      "source": [
        "## 1.2. Tokenize the cleaned up reviews"
      ]
    },
    {
      "cell_type": "code",
      "execution_count": null,
      "metadata": {
        "colab": {
          "base_uri": "https://localhost:8080/",
          "height": 206
        },
        "id": "KtzqhppBxUke",
        "outputId": "58c3ea0f-5147-49ae-fd82-bd0021ddb9e9"
      },
      "outputs": [
        {
          "data": {
            "text/html": [
              "<div>\n",
              "<style scoped>\n",
              "    .dataframe tbody tr th:only-of-type {\n",
              "        vertical-align: middle;\n",
              "    }\n",
              "\n",
              "    .dataframe tbody tr th {\n",
              "        vertical-align: top;\n",
              "    }\n",
              "\n",
              "    .dataframe thead th {\n",
              "        text-align: right;\n",
              "    }\n",
              "</style>\n",
              "<table border=\"1\" class=\"dataframe\">\n",
              "  <thead>\n",
              "    <tr style=\"text-align: right;\">\n",
              "      <th></th>\n",
              "      <th>coffee_shop_name</th>\n",
              "      <th>full_review_text</th>\n",
              "      <th>star_rating</th>\n",
              "      <th>date</th>\n",
              "      <th>cleaned_review</th>\n",
              "      <th>tokens</th>\n",
              "    </tr>\n",
              "  </thead>\n",
              "  <tbody>\n",
              "    <tr>\n",
              "      <th>0</th>\n",
              "      <td>The Factory - Cafe With a Soul</td>\n",
              "      <td>11/25/2016 1 check-in Love love loved the atm...</td>\n",
              "      <td>5.0 star rating</td>\n",
              "      <td>2016-11-25</td>\n",
              "      <td>checkin love love loved the atmosphere ever...</td>\n",
              "      <td>[, , , checkin, love, love, loved, the, atmosp...</td>\n",
              "    </tr>\n",
              "    <tr>\n",
              "      <th>1</th>\n",
              "      <td>The Factory - Cafe With a Soul</td>\n",
              "      <td>12/2/2016 Listed in Date Night: Austin, Ambia...</td>\n",
              "      <td>4.0 star rating</td>\n",
              "      <td>2016-12-02</td>\n",
              "      <td>listed in date night austin ambiance in aust...</td>\n",
              "      <td>[, , listed, in, date, night, austin, ambiance...</td>\n",
              "    </tr>\n",
              "    <tr>\n",
              "      <th>2</th>\n",
              "      <td>The Factory - Cafe With a Soul</td>\n",
              "      <td>11/30/2016 1 check-in Listed in Brunch Spots ...</td>\n",
              "      <td>4.0 star rating</td>\n",
              "      <td>2016-11-30</td>\n",
              "      <td>checkin listed in brunch spots i loved the ...</td>\n",
              "      <td>[, , , checkin, listed, in, brunch, spots, i, ...</td>\n",
              "    </tr>\n",
              "    <tr>\n",
              "      <th>3</th>\n",
              "      <td>The Factory - Cafe With a Soul</td>\n",
              "      <td>11/25/2016 Very cool decor! Good drinks Nice ...</td>\n",
              "      <td>2.0 star rating</td>\n",
              "      <td>2016-11-25</td>\n",
              "      <td>very cool decor good drinks nice seating  ho...</td>\n",
              "      <td>[, , very, cool, decor, good, drinks, nice, se...</td>\n",
              "    </tr>\n",
              "    <tr>\n",
              "      <th>4</th>\n",
              "      <td>The Factory - Cafe With a Soul</td>\n",
              "      <td>12/3/2016 1 check-in They are located within ...</td>\n",
              "      <td>4.0 star rating</td>\n",
              "      <td>2016-12-03</td>\n",
              "      <td>checkin they are located within the northcr...</td>\n",
              "      <td>[, , , checkin, they, are, located, within, th...</td>\n",
              "    </tr>\n",
              "  </tbody>\n",
              "</table>\n",
              "</div>"
            ],
            "text/plain": [
              "                  coffee_shop_name  \\\n",
              "0  The Factory - Cafe With a Soul    \n",
              "1  The Factory - Cafe With a Soul    \n",
              "2  The Factory - Cafe With a Soul    \n",
              "3  The Factory - Cafe With a Soul    \n",
              "4  The Factory - Cafe With a Soul    \n",
              "\n",
              "                                    full_review_text        star_rating  \\\n",
              "0   11/25/2016 1 check-in Love love loved the atm...   5.0 star rating    \n",
              "1   12/2/2016 Listed in Date Night: Austin, Ambia...   4.0 star rating    \n",
              "2   11/30/2016 1 check-in Listed in Brunch Spots ...   4.0 star rating    \n",
              "3   11/25/2016 Very cool decor! Good drinks Nice ...   2.0 star rating    \n",
              "4   12/3/2016 1 check-in They are located within ...   4.0 star rating    \n",
              "\n",
              "        date                                     cleaned_review  \\\n",
              "0 2016-11-25     checkin love love loved the atmosphere ever...   \n",
              "1 2016-12-02    listed in date night austin ambiance in aust...   \n",
              "2 2016-11-30     checkin listed in brunch spots i loved the ...   \n",
              "3 2016-11-25    very cool decor good drinks nice seating  ho...   \n",
              "4 2016-12-03     checkin they are located within the northcr...   \n",
              "\n",
              "                                              tokens  \n",
              "0  [, , , checkin, love, love, loved, the, atmosp...  \n",
              "1  [, , listed, in, date, night, austin, ambiance...  \n",
              "2  [, , , checkin, listed, in, brunch, spots, i, ...  \n",
              "3  [, , very, cool, decor, good, drinks, nice, se...  \n",
              "4  [, , , checkin, they, are, located, within, th...  "
            ]
          },
          "execution_count": 24,
          "metadata": {},
          "output_type": "execute_result"
        }
      ],
      "source": [
        "# with a for loop\n",
        "tokens = []\n",
        "for review in df['cleaned_review']:\n",
        "  tokens.append(review.split(' '))\n",
        "\n",
        "df['tokens'] = tokens\n",
        "\n",
        "df.head()"
      ]
    },
    {
      "cell_type": "code",
      "execution_count": null,
      "metadata": {
        "colab": {
          "base_uri": "https://localhost:8080/"
        },
        "id": "YwpERv5xQQMS",
        "outputId": "d37c2a59-a353-4838-d954-d7177acc0df7"
      },
      "outputs": [
        {
          "name": "stdout",
          "output_type": "stream",
          "text": [
            "<class 'pandas.core.frame.DataFrame'>\n",
            "RangeIndex: 7616 entries, 0 to 7615\n",
            "Data columns (total 6 columns):\n",
            " #   Column            Non-Null Count  Dtype         \n",
            "---  ------            --------------  -----         \n",
            " 0   coffee_shop_name  7616 non-null   object        \n",
            " 1   full_review_text  7616 non-null   object        \n",
            " 2   star_rating       7616 non-null   object        \n",
            " 3   date              7616 non-null   datetime64[ns]\n",
            " 4   cleaned_review    7616 non-null   object        \n",
            " 5   tokens            7616 non-null   object        \n",
            "dtypes: datetime64[ns](1), object(5)\n",
            "memory usage: 357.1+ KB\n"
          ]
        }
      ],
      "source": [
        "df.info()"
      ]
    },
    {
      "cell_type": "code",
      "execution_count": null,
      "metadata": {
        "colab": {
          "base_uri": "https://localhost:8080/",
          "height": 206
        },
        "id": "7BIHIfFyxycq",
        "outputId": "4c7f4b6e-191b-4853-d261-1fdc076c5fd4"
      },
      "outputs": [
        {
          "data": {
            "text/html": [
              "\n",
              "  <div id=\"df-d3c338e8-c951-4f81-9b32-32d1b026a345\">\n",
              "    <div class=\"colab-df-container\">\n",
              "      <div>\n",
              "<style scoped>\n",
              "    .dataframe tbody tr th:only-of-type {\n",
              "        vertical-align: middle;\n",
              "    }\n",
              "\n",
              "    .dataframe tbody tr th {\n",
              "        vertical-align: top;\n",
              "    }\n",
              "\n",
              "    .dataframe thead th {\n",
              "        text-align: right;\n",
              "    }\n",
              "</style>\n",
              "<table border=\"1\" class=\"dataframe\">\n",
              "  <thead>\n",
              "    <tr style=\"text-align: right;\">\n",
              "      <th></th>\n",
              "      <th>coffee_shop_name</th>\n",
              "      <th>full_review_text</th>\n",
              "      <th>star_rating</th>\n",
              "      <th>date</th>\n",
              "      <th>cleaned_review</th>\n",
              "      <th>tokens</th>\n",
              "    </tr>\n",
              "  </thead>\n",
              "  <tbody>\n",
              "    <tr>\n",
              "      <th>0</th>\n",
              "      <td>The Factory - Cafe With a Soul</td>\n",
              "      <td>11/25/2016 1 check-in Love love loved the atm...</td>\n",
              "      <td>5.0 star rating</td>\n",
              "      <td>2016-11-25</td>\n",
              "      <td>checkin love love loved the atmosphere ever...</td>\n",
              "      <td>[, , , checkin, love, love, loved, the, atmosp...</td>\n",
              "    </tr>\n",
              "    <tr>\n",
              "      <th>1</th>\n",
              "      <td>The Factory - Cafe With a Soul</td>\n",
              "      <td>12/2/2016 Listed in Date Night: Austin, Ambia...</td>\n",
              "      <td>4.0 star rating</td>\n",
              "      <td>2016-12-02</td>\n",
              "      <td>listed in date night austin ambiance in aust...</td>\n",
              "      <td>[, , listed, in, date, night, austin, ambiance...</td>\n",
              "    </tr>\n",
              "    <tr>\n",
              "      <th>2</th>\n",
              "      <td>The Factory - Cafe With a Soul</td>\n",
              "      <td>11/30/2016 1 check-in Listed in Brunch Spots ...</td>\n",
              "      <td>4.0 star rating</td>\n",
              "      <td>2016-11-30</td>\n",
              "      <td>checkin listed in brunch spots i loved the ...</td>\n",
              "      <td>[, , , checkin, listed, in, brunch, spots, i, ...</td>\n",
              "    </tr>\n",
              "    <tr>\n",
              "      <th>3</th>\n",
              "      <td>The Factory - Cafe With a Soul</td>\n",
              "      <td>11/25/2016 Very cool decor! Good drinks Nice ...</td>\n",
              "      <td>2.0 star rating</td>\n",
              "      <td>2016-11-25</td>\n",
              "      <td>very cool decor good drinks nice seating  ho...</td>\n",
              "      <td>[, , very, cool, decor, good, drinks, nice, se...</td>\n",
              "    </tr>\n",
              "    <tr>\n",
              "      <th>4</th>\n",
              "      <td>The Factory - Cafe With a Soul</td>\n",
              "      <td>12/3/2016 1 check-in They are located within ...</td>\n",
              "      <td>4.0 star rating</td>\n",
              "      <td>2016-12-03</td>\n",
              "      <td>checkin they are located within the northcr...</td>\n",
              "      <td>[, , , checkin, they, are, located, within, th...</td>\n",
              "    </tr>\n",
              "  </tbody>\n",
              "</table>\n",
              "</div>\n",
              "      <button class=\"colab-df-convert\" onclick=\"convertToInteractive('df-d3c338e8-c951-4f81-9b32-32d1b026a345')\"\n",
              "              title=\"Convert this dataframe to an interactive table.\"\n",
              "              style=\"display:none;\">\n",
              "        \n",
              "  <svg xmlns=\"http://www.w3.org/2000/svg\" height=\"24px\"viewBox=\"0 0 24 24\"\n",
              "       width=\"24px\">\n",
              "    <path d=\"M0 0h24v24H0V0z\" fill=\"none\"/>\n",
              "    <path d=\"M18.56 5.44l.94 2.06.94-2.06 2.06-.94-2.06-.94-.94-2.06-.94 2.06-2.06.94zm-11 1L8.5 8.5l.94-2.06 2.06-.94-2.06-.94L8.5 2.5l-.94 2.06-2.06.94zm10 10l.94 2.06.94-2.06 2.06-.94-2.06-.94-.94-2.06-.94 2.06-2.06.94z\"/><path d=\"M17.41 7.96l-1.37-1.37c-.4-.4-.92-.59-1.43-.59-.52 0-1.04.2-1.43.59L10.3 9.45l-7.72 7.72c-.78.78-.78 2.05 0 2.83L4 21.41c.39.39.9.59 1.41.59.51 0 1.02-.2 1.41-.59l7.78-7.78 2.81-2.81c.8-.78.8-2.07 0-2.86zM5.41 20L4 18.59l7.72-7.72 1.47 1.35L5.41 20z\"/>\n",
              "  </svg>\n",
              "      </button>\n",
              "      \n",
              "  <style>\n",
              "    .colab-df-container {\n",
              "      display:flex;\n",
              "      flex-wrap:wrap;\n",
              "      gap: 12px;\n",
              "    }\n",
              "\n",
              "    .colab-df-convert {\n",
              "      background-color: #E8F0FE;\n",
              "      border: none;\n",
              "      border-radius: 50%;\n",
              "      cursor: pointer;\n",
              "      display: none;\n",
              "      fill: #1967D2;\n",
              "      height: 32px;\n",
              "      padding: 0 0 0 0;\n",
              "      width: 32px;\n",
              "    }\n",
              "\n",
              "    .colab-df-convert:hover {\n",
              "      background-color: #E2EBFA;\n",
              "      box-shadow: 0px 1px 2px rgba(60, 64, 67, 0.3), 0px 1px 3px 1px rgba(60, 64, 67, 0.15);\n",
              "      fill: #174EA6;\n",
              "    }\n",
              "\n",
              "    [theme=dark] .colab-df-convert {\n",
              "      background-color: #3B4455;\n",
              "      fill: #D2E3FC;\n",
              "    }\n",
              "\n",
              "    [theme=dark] .colab-df-convert:hover {\n",
              "      background-color: #434B5C;\n",
              "      box-shadow: 0px 1px 3px 1px rgba(0, 0, 0, 0.15);\n",
              "      filter: drop-shadow(0px 1px 2px rgba(0, 0, 0, 0.3));\n",
              "      fill: #FFFFFF;\n",
              "    }\n",
              "  </style>\n",
              "\n",
              "      <script>\n",
              "        const buttonEl =\n",
              "          document.querySelector('#df-d3c338e8-c951-4f81-9b32-32d1b026a345 button.colab-df-convert');\n",
              "        buttonEl.style.display =\n",
              "          google.colab.kernel.accessAllowed ? 'block' : 'none';\n",
              "\n",
              "        async function convertToInteractive(key) {\n",
              "          const element = document.querySelector('#df-d3c338e8-c951-4f81-9b32-32d1b026a345');\n",
              "          const dataTable =\n",
              "            await google.colab.kernel.invokeFunction('convertToInteractive',\n",
              "                                                     [key], {});\n",
              "          if (!dataTable) return;\n",
              "\n",
              "          const docLinkHtml = 'Like what you see? Visit the ' +\n",
              "            '<a target=\"_blank\" href=https://colab.research.google.com/notebooks/data_table.ipynb>data table notebook</a>'\n",
              "            + ' to learn more about interactive tables.';\n",
              "          element.innerHTML = '';\n",
              "          dataTable['output_type'] = 'display_data';\n",
              "          await google.colab.output.renderOutput(dataTable, element);\n",
              "          const docLink = document.createElement('div');\n",
              "          docLink.innerHTML = docLinkHtml;\n",
              "          element.appendChild(docLink);\n",
              "        }\n",
              "      </script>\n",
              "    </div>\n",
              "  </div>\n",
              "  "
            ],
            "text/plain": [
              "                  coffee_shop_name  \\\n",
              "0  The Factory - Cafe With a Soul    \n",
              "1  The Factory - Cafe With a Soul    \n",
              "2  The Factory - Cafe With a Soul    \n",
              "3  The Factory - Cafe With a Soul    \n",
              "4  The Factory - Cafe With a Soul    \n",
              "\n",
              "                                    full_review_text        star_rating  \\\n",
              "0   11/25/2016 1 check-in Love love loved the atm...   5.0 star rating    \n",
              "1   12/2/2016 Listed in Date Night: Austin, Ambia...   4.0 star rating    \n",
              "2   11/30/2016 1 check-in Listed in Brunch Spots ...   4.0 star rating    \n",
              "3   11/25/2016 Very cool decor! Good drinks Nice ...   2.0 star rating    \n",
              "4   12/3/2016 1 check-in They are located within ...   4.0 star rating    \n",
              "\n",
              "        date                                     cleaned_review  \\\n",
              "0 2016-11-25     checkin love love loved the atmosphere ever...   \n",
              "1 2016-12-02    listed in date night austin ambiance in aust...   \n",
              "2 2016-11-30     checkin listed in brunch spots i loved the ...   \n",
              "3 2016-11-25    very cool decor good drinks nice seating  ho...   \n",
              "4 2016-12-03     checkin they are located within the northcr...   \n",
              "\n",
              "                                              tokens  \n",
              "0  [, , , checkin, love, love, loved, the, atmosp...  \n",
              "1  [, , listed, in, date, night, austin, ambiance...  \n",
              "2  [, , , checkin, listed, in, brunch, spots, i, ...  \n",
              "3  [, , very, cool, decor, good, drinks, nice, se...  \n",
              "4  [, , , checkin, they, are, located, within, th...  "
            ]
          },
          "execution_count": 24,
          "metadata": {},
          "output_type": "execute_result"
        }
      ],
      "source": [
        "# with a list comprehension\n",
        "df['tokens'] = [review.split(' ') for review in df['cleaned_review']]\n",
        "df.head()"
      ]
    },
    {
      "cell_type": "markdown",
      "metadata": {
        "id": "ct0RJaQQ2FoX"
      },
      "source": [
        "### 1.3 Visualize the most common tokens\n",
        "Below is the `count()` function that we used in the lecture."
      ]
    },
    {
      "cell_type": "code",
      "execution_count": null,
      "metadata": {
        "id": "ypyH-_x1GErX"
      },
      "outputs": [],
      "source": [
        "from collections import Counter\n",
        "\n",
        "def count(token_lists):\n",
        "    \"\"\"\n",
        "    Calculates some basic statistics about tokens in our corpus (i.e. corpus means collections text data)\n",
        "    \"\"\"\n",
        "    # stores the count of each token\n",
        "    word_counts = Counter()\n",
        "    \n",
        "    # stores the number of docs that each token appears in \n",
        "    appears_in_docs = Counter()\n",
        "\n",
        "    total_docs = len(token_lists)\n",
        "\n",
        "    for token_list in token_lists:\n",
        "        # stores count of every appearance of a token \n",
        "        word_counts.update(token_list)\n",
        "        \n",
        "        # use set() in order to not count duplicates, thereby count the num of docs that each token appears in\n",
        "        appears_in_docs.update(set(token_list))\n",
        "\n",
        "    # build word count dataframe\n",
        "    word_count_dict = zip(word_counts.keys(), word_counts.values())\n",
        "    wc = pd.DataFrame(word_count_dict, columns = ['word', 'count'])\n",
        "\n",
        "    # rank the the word counts\n",
        "    wc['rank'] = wc['count'].rank(method='first', ascending=False)\n",
        "    total = wc['count'].sum()\n",
        "\n",
        "    # calculate the percent total of each token\n",
        "    wc['fraction_of_total'] = wc['count'].apply(lambda token_count: token_count / total)\n",
        "\n",
        "    # calculate the cumulative percent total of word counts \n",
        "    wc = wc.sort_values(by='rank')\n",
        "    wc['cumulative_fraction_of_total'] = wc['fraction_of_total'].cumsum()\n",
        "\n",
        "    # create dataframe for document stats\n",
        "    t2 = zip(appears_in_docs.keys(), appears_in_docs.values())\n",
        "    ac = pd.DataFrame(t2, columns=['word', 'appears_in_docs'])\n",
        "    \n",
        "    # merge word count stats with doc stats\n",
        "    wc = ac.merge(wc, on='word')\n",
        "\n",
        "    wc['appears_in_fraction_of_docs'] = wc['appears_in_docs'].apply(lambda x: x / total_docs)\n",
        "\n",
        "    return wc.sort_values(by='rank')"
      ]
    },
    {
      "cell_type": "markdown",
      "metadata": {
        "id": "cBoda7E4S5K_"
      },
      "source": [
        "#### Summary of the descriptive token statistics \n",
        "\n",
        "`word` The specific token that is being analyzed\n",
        "\n",
        "`appears_in_docs` Number of documents that the word/token appears in\n",
        "\n",
        "`count` The total number of appearances of that token within the corpus \n",
        "\n",
        "`rank` Ranking of tokens by count \n",
        "\n",
        "`fraction_of_total` Fraction of the total tokens that this token makes up\n",
        "\n",
        "`cumulative_fraction_of_total` Sum of fractional total of ranked tokens, down to and including this token. \n",
        "\n",
        "`appears_in_fraction_of_docs` Fraction of documents that token appears in "
      ]
    },
    {
      "cell_type": "code",
      "execution_count": null,
      "metadata": {
        "colab": {
          "base_uri": "https://localhost:8080/",
          "height": 253
        },
        "id": "JWIXe-TK2zhU",
        "outputId": "3a66cc36-0b54-4904-d8ac-12ef199a902f"
      },
      "outputs": [
        {
          "data": {
            "image/png": "[encoded data removed]",
            "text/plain": [
              "<Figure size 432x288 with 1 Axes>"
            ]
          },
          "metadata": {
            "needs_background": "light"
          },
          "output_type": "display_data"
        }
      ],
      "source": [
        "# visualize the 20 most common tokens with squarify\n",
        "# Lots of stopwords!\n",
        "\n",
        "#YOUR CODE HERE\n",
        "wc_top20 = count(df['tokens'])\n",
        "\n",
        "\n",
        "squarify.plot(sizes=wc_top20['fraction_of_total'], label=wc_top20['word'], alpha=.8 )\n",
        "\n",
        "plt.axis('off')\n",
        "plt.show()"
      ]
    },
    {
      "cell_type": "markdown",
      "metadata": {
        "id": "wbB72j8YyNYB"
      },
      "source": [
        "## 1.4 Clean, tokenize, remove stopwords, and lemmatize the reviews (with Spacy)\n",
        "\n",
        "We can do all of the above with Spacy, but Spacy has the added benefit of making it easy to lemmatize tokens and remove stop words as well! Let's write a tokenize function with Spacy. "
      ]
    },
    {
      "cell_type": "code",
      "execution_count": null,
      "metadata": {
        "colab": {
          "base_uri": "https://localhost:8080/"
        },
        "id": "0j3WsTt4szyr",
        "outputId": "cedeb32c-7592-416f-895b-d660c750b21f"
      },
      "outputs": [
        {
          "name": "stderr",
          "output_type": "stream",
          "text": [
            "/usr/local/lib/python3.8/dist-packages/torch/cuda/__init__.py:497: UserWarning: Can't initialize NVML\n",
            "  warnings.warn(\"Can't initialize NVML\")\n"
          ]
        }
      ],
      "source": [
        "import spacy\n",
        "# import the large version of the pre-trained model\n",
        "# depending on your computational resources/limitations, you might need to download and load in a smaller version of the model \n",
        "# see the spaCy docs: https://spacy.io/models/en\n",
        "nlp = ... #YOUR CODE HERE"
      ]
    },
    {
      "cell_type": "markdown",
      "metadata": {
        "id": "GiXS6ZOT02vN"
      },
      "source": [
        "## Remove stop word, punctuation and whitespace from each token"
      ]
    },
    {
      "cell_type": "code",
      "execution_count": null,
      "metadata": {
        "colab": {
          "base_uri": "https://localhost:8080/",
          "height": 134
        },
        "id": "YXgZXLPEszyr",
        "outputId": "81e931ff-d38f-4fc1-da41-44ce2fe64ce7"
      },
      "outputs": [
        {
          "ename": "SyntaxError",
          "evalue": "ignored",
          "output_type": "error",
          "traceback": [
            "\u001b[0;36m  File \u001b[0;32m\"<ipython-input-29-f959c9cc0e26>\"\u001b[0;36m, line \u001b[0;32m26\u001b[0m\n\u001b[0;31m    tokens.append(token.?)\u001b[0m\n\u001b[0m                        ^\u001b[0m\n\u001b[0;31mSyntaxError\u001b[0m\u001b[0;31m:\u001b[0m invalid syntax\n"
          ]
        }
      ],
      "source": [
        "# this will take longer to run than a regex method because Spacy is doing a fair amount\n",
        "# of extra stuff under the hood in creating the token attributes and everything.\n",
        "\n",
        "def spacy_tokenizer(text):\n",
        "    \"\"\"\n",
        "    Use the pre-trained model from Space to tokenize our text into lemmas \n",
        "    \n",
        "    Notes\n",
        "    -----\n",
        "    Rememeber that the pre-trained spaCy model has a lot of built in flags for what kind of token each token is\n",
        "    so we can use that functionality to create filters for stop words, white spaces, punctuation, and so on!\n",
        "    \n",
        "    See list of flags here: https://spacy.io/api/token#attributes\n",
        "    \n",
        "    Parameter\n",
        "    ---------\n",
        "    text: string\n",
        "        Full text article/document that needs to be tokenized \n",
        "    \"\"\"\n",
        "    tokens = []\n",
        "    for token in nlp(text):\n",
        "        # if statement will filter out stopwords, punctuation, and whitespace\n",
        "        # COMPLETE THE CODE HERE\n",
        "        if ( ... ):\n",
        "            # Now lemmatize!\n",
        "            tokens.append(token.?)\n",
        "    \n",
        "    return tokens"
      ]
    },
    {
      "cell_type": "code",
      "execution_count": null,
      "metadata": {
        "id": "7fMRJMoZ_5Aq"
      },
      "outputs": [],
      "source": [
        "df['full_review_text'][10]"
      ]
    },
    {
      "cell_type": "code",
      "execution_count": null,
      "metadata": {
        "id": "SAuDB46Fszys"
      },
      "outputs": [],
      "source": [
        "# This code cell takes ~ 3 minutes on Google Colab\n",
        "%%time \n",
        "# YOUR CODE HERE\n",
        "df['spacy_tokens'] = df['?'].apply(?)"
      ]
    },
    {
      "cell_type": "code",
      "execution_count": null,
      "metadata": {
        "id": "o6ERmwRL1_xX"
      },
      "outputs": [],
      "source": [
        "df.head()"
      ]
    },
    {
      "cell_type": "markdown",
      "metadata": {
        "id": "enAfqOhN3SNc"
      },
      "source": [
        "##1.5 Visualize the Spacy Tokens"
      ]
    },
    {
      "cell_type": "code",
      "execution_count": null,
      "metadata": {
        "id": "Rk-50jGh3Rxu"
      },
      "outputs": [],
      "source": [
        "wc = count(df['spacy_tokens'])\n",
        "\n",
        "wc_top20 = wc[wc['rank'] <= 20]\n",
        "\n",
        "squarify... #YOUR CODE HERE\n",
        "plt.axis('off')\n",
        "plt.show()"
      ]
    },
    {
      "cell_type": "markdown",
      "metadata": {
        "id": "qGzScOL73rFn"
      },
      "source": [
        "# 2. Compare High and Low Coffeeshop reviews!\n",
        "\n",
        "- We'll say that a \"good\" rating is 4 or 5 stars\n",
        "- a \"bad\" rating is 3 stars or less"
      ]
    },
    {
      "cell_type": "markdown",
      "metadata": {
        "id": "bOSuAA-G37e3"
      },
      "source": [
        "## 2.1 Create a numeric version of the star rating"
      ]
    },
    {
      "cell_type": "code",
      "execution_count": null,
      "metadata": {
        "id": "CM-bcjks4HMM"
      },
      "outputs": [],
      "source": [
        "df.head()"
      ]
    },
    {
      "cell_type": "code",
      "execution_count": null,
      "metadata": {
        "id": "OG3x8rdiBCNO"
      },
      "outputs": [],
      "source": [
        "df['star_rating'].unique()"
      ]
    },
    {
      "cell_type": "markdown",
      "metadata": {
        "id": "OLkuO5fBBUVG"
      },
      "source": [
        "Let's write a `regex` to extract only the numerical value of the rating from this text string<br>\n",
        "Reference: [Easiest way to remember Regular Expressions](https://towardsdatascience.com/easiest-way-to-remember-regular-expressions-regex-178ba518bebd)"
      ]
    },
    {
      "cell_type": "code",
      "execution_count": null,
      "metadata": {
        "id": "XWRZejBCBaPI"
      },
      "outputs": [],
      "source": [
        "df['stars'] = df['star_rating'].str.extract('(...)').astype(int) # COMPLETE THE CODE"
      ]
    },
    {
      "cell_type": "code",
      "execution_count": null,
      "metadata": {
        "id": "5oWq_lTIB4gP"
      },
      "outputs": [],
      "source": [
        "type(df['stars'][0])"
      ]
    },
    {
      "cell_type": "code",
      "execution_count": null,
      "metadata": {
        "id": "Ug2Ym8GEBScT"
      },
      "outputs": [],
      "source": [
        "df.head()"
      ]
    },
    {
      "cell_type": "code",
      "execution_count": null,
      "metadata": {
        "id": "55Qc1RPa4JD-"
      },
      "outputs": [],
      "source": [
        "# COMPLETE CODE HERE\n",
        "def star_rating_numeric(rating_string):\n",
        "  return float(rating_string.split()[0])\n",
        "\n",
        "df['star_rating'] = df[?].apply(?)\n",
        "\n",
        "df.head()"
      ]
    },
    {
      "cell_type": "code",
      "execution_count": null,
      "metadata": {
        "id": "sY-vLc_WwUNA"
      },
      "outputs": [],
      "source": [
        "# most coffee shops get 4 or 5 star ratings.\n",
        "bin_edges = [0.5, 1.5, 2.5, 3.5, 4.5, 5.5]\n",
        "df['stars'].hist(bins=bin_edges);"
      ]
    },
    {
      "cell_type": "markdown",
      "metadata": {
        "id": "eCrNUerr4kKG"
      },
      "source": [
        "##2.2 Split into two dataframes based on star rating\n",
        "good: ratings 4 and 5 <br>\n",
        "bad: ratings <4"
      ]
    },
    {
      "cell_type": "code",
      "execution_count": null,
      "metadata": {
        "id": "d-ErzFog4pgM"
      },
      "outputs": [],
      "source": [
        "# Complete code here\n",
        "good = df[ ??]\n",
        "bad = df[ ??]"
      ]
    },
    {
      "cell_type": "code",
      "execution_count": null,
      "metadata": {
        "id": "y9ahpHof4yiV"
      },
      "outputs": [],
      "source": [
        "# make sure that all reviews are accounted for in one of the two groups\n",
        "assert df.shape[0] == good.shape[0] + bad.shape[0]"
      ]
    },
    {
      "cell_type": "markdown",
      "metadata": {
        "id": "6HzFcfdkNZv3"
      },
      "source": [
        "#### Summary of the descriptive token statistics \n",
        "\n",
        "`word` The specific token that is being analyzed\n",
        "\n",
        "`appears_in_docs` Number of documents that the word/token appears in\n",
        "\n",
        "`count` The total number of appearances of that token within the corpus \n",
        "\n",
        "`rank` Ranking of tokens by count \n",
        "\n",
        "`fraction_of_total` Fraction of the total tokens that this token makes up\n",
        "\n",
        "`cumulative_fraction_of_total` Sum of fractional total of ranked tokens, down to and including this token. \n",
        "\n",
        "`appears_in_fraction_of_docs` Fraction of documents that token appears in "
      ]
    },
    {
      "cell_type": "code",
      "execution_count": null,
      "metadata": {
        "id": "V4aKjuS8szyw"
      },
      "outputs": [],
      "source": [
        "good_wc = count(good[\"spacy_tokens\"])\n",
        "good_wc.head(10)"
      ]
    },
    {
      "cell_type": "code",
      "execution_count": null,
      "metadata": {
        "id": "VVPvC0Bk5wty"
      },
      "outputs": [],
      "source": [
        "bad_wc = count(bad[\"spacy_tokens\"])\n",
        "bad_wc.head(10)"
      ]
    },
    {
      "cell_type": "markdown",
      "metadata": {
        "id": "w1BTCz_gszyx"
      },
      "source": [
        "##2.3 Visualize top 20 `good` and top 20 `bad` tokens using a word cloud"
      ]
    },
    {
      "cell_type": "code",
      "execution_count": null,
      "metadata": {
        "id": "7MWQ1BHeszyx"
      },
      "outputs": [],
      "source": [
        "# COMPLETE CODE HERE\n",
        "good_top20 = good_wc[good_wc['rank'] <= 20]\n",
        "plt.figure(figsize=(10,7))\n",
        "squarify.plot(?? )\n",
        "plt.title(\"Positive Reviews\")\n",
        "plt.axis('off')\n",
        "plt.show()\n",
        "\n",
        "bad_top20 = bad_wc[bad_wc['rank'] <= 20]\n",
        "plt.figure(figsize=(10,7))\n",
        "squarify.plot(??)\n",
        "plt.title(\"Negative Reviews\")\n",
        "plt.axis('off')\n",
        "plt.show()"
      ]
    },
    {
      "cell_type": "markdown",
      "metadata": {
        "id": "hhRS5oWkszy1"
      },
      "source": [
        "## 3. Find out which words are likely to occur in \"good\" and \"bad\" reviews\n",
        "Ok - let's do a more thorough analysis! <br>\n",
        "Looking at `df_pos_wc` and `df_neg_wc` we notice that certain words are ranked higher in one data set and lower in the other. "
      ]
    },
    {
      "cell_type": "code",
      "execution_count": null,
      "metadata": {
        "id": "ad_p-iZaszy1"
      },
      "outputs": [],
      "source": [
        "# these are words that are ranked high in one data set but not the other\n",
        "# you might try working with two keyword lists -- one for the good reviews and one for the bad reviews \n",
        "key_words = []"
      ]
    },
    {
      "cell_type": "code",
      "execution_count": null,
      "metadata": {
        "id": "00yVhq9hszy1"
      },
      "outputs": [],
      "source": [
        "good_wc.head()"
      ]
    },
    {
      "cell_type": "code",
      "execution_count": null,
      "metadata": {
        "id": "NuKHEw0Dszy1"
      },
      "outputs": [],
      "source": [
        "df_pos_keywords_mask = good_wc.word.isin(key_words)\n",
        "df_pos_keywords = good_wc[df_pos_keywords_mask]\n",
        "df_pos_keywords.head()"
      ]
    },
    {
      "cell_type": "code",
      "execution_count": null,
      "metadata": {
        "id": "945bUvfmszy1"
      },
      "outputs": [],
      "source": [
        "df_neg_keywords_mask = bad_wc.word.isin(key_words)\n",
        "df_neg_keywords = bad_wc[df_neg_keywords_mask]\n",
        "df_neg_keywords.head()"
      ]
    },
    {
      "cell_type": "code",
      "execution_count": null,
      "metadata": {
        "id": "4m0c-J5p3O7_"
      },
      "outputs": [],
      "source": [
        "import seaborn as sns\n",
        "\n",
        "plt.figure(figsize=(15,6))\n",
        "plt.title(\"4 and 5 star reviews: Percent of Documents that Keywords appear in\")\n",
        "sns.barplot(x=df_pos_keywords.word, y=df_pos_keywords.appears_in_pct, palette=\"rocket\", order=key_words);\n",
        "plt.ylim(0,.42)\n",
        "plt.show();\n",
        "\n",
        "plt.figure(figsize=(15,6))\n",
        "plt.title(\"1, 2, and 3 star reviews: Percent of Documents that Keywords appear in\")\n",
        "sns.barplot(x=df_neg_keywords.word, y=df_neg_keywords.appears_in_pct, palette=\"rocket\", order=key_words);\n",
        "plt.ylim(0,.42)\n",
        "plt.show();"
      ]
    }
  ],
  "metadata": {
    "colab": {
      "provenance": []
    },
    "kernelspec": {
      "display_name": "Python 3",
      "language": "python",
      "name": "python3"
    },
    "language_info": {
      "codemirror_mode": {
        "name": "ipython",
        "version": 3
      },
      "file_extension": ".py",
      "mimetype": "text/x-python",
      "name": "python",
      "nbconvert_exporter": "python",
      "pygments_lexer": "ipython3",
      "version": "3.11.1"
    },
    "toc-autonumbering": false,
    "vscode": {
      "interpreter": {
        "hash": "5238573367df39f7286bb46f9ff5f08f63a01a80960060ce41e3c79b190280fa"
      }
    }
  },
  "nbformat": 4,
  "nbformat_minor": 0
}
